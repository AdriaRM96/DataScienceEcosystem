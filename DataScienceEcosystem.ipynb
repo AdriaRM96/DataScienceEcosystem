{
  "metadata": {
    "kernelspec": {
      "name": "python",
      "display_name": "Python (Pyodide)",
      "language": "python"
    },
    "language_info": {
      "codemirror_mode": {
        "name": "python",
        "version": 3
      },
      "file_extension": ".py",
      "mimetype": "text/x-python",
      "name": "python",
      "nbconvert_exporter": "python",
      "pygments_lexer": "ipython3",
      "version": "3.8"
    },
    "prev_pub_hash": "9e1985db9844176462bd1d5863048c9f3d17404bbc6a648be9084b0c42b29347"
  },
  "nbformat_minor": 4,
  "nbformat": 4,
  "cells": [
    {
      "cell_type": "markdown",
      "source": "<center>\n    <img src=\"https://cf-courses-data.s3.us.cloud-object-storage.appdomain.cloud/IBMDeveloperSkillsNetwork-DS0105EN-SkillsNetwork/labs/Module2/images/SN_web_lightmode.png\" width=\"300\" alt=\"cognitiveclass.ai logo\">\n</center>\n",
      "metadata": {}
    },
    {
      "cell_type": "markdown",
      "source": "# Data Science Tools and Ecosystem\n",
      "metadata": {}
    },
    {
      "cell_type": "markdown",
      "source": "In this notebook, Data Science Tools and Ecosystem are summarized.",
      "metadata": {}
    },
    {
      "cell_type": "markdown",
      "source": "**Objectives:**\n\n- List popular languages for Data Science.\n- List common libraries used by Data Scientists.\n- Provide a table of development environment tools for Data Science.\n- Demonstrate examples of arithmetic expressions in Python.\n- Show how to convert time (minutes to hours).\n",
      "metadata": {}
    },
    {
      "cell_type": "markdown",
      "source": "Popular languages that Data Scientists use\n- 🐍 Python\n- 📊 R\n- 💾 SQL\n- ⚡ Julia\n- 🔥 Scala\n- ☕ Java\n- 🚀 C++",
      "metadata": {}
    },
    {
      "cell_type": "markdown",
      "source": "Commonly used libraries used by Data Scientists include:\n1. Manipulación y Análisis de Datos\n    - `pandas` – Manipulación y análisis de datos. 🐍\n    - `numpy` – Cálculo numérico y manejo de matrices. 🐍\n    - `dask` – Computación paralela para grandes volúmenes de datos. 🐍\n    - `polars` – Alternativa de alto rendimiento a Pandas. 🐍\n2. Visualización de Datos\n    - `matplotlib` – Gráficos básicos y personalizables. 🐍\n    - `seaborn` – Visualización estadística avanzada. 🐍\n    - `plotly` – Gráficos interactivos. 🐍 📊\n    - `bokeh` – Visualización interactiva basada en web. 🐍\n    - `altair` – Visualización estadística declarativa. 🐍\n3. Aprendizaje Automático y AI\n    - `scikit-learn` – Modelos de ML clásicos (SVM, Random Forest, etc.). 🐍\n    - `xgboost` – Gradient boosting eficiente. 🐍 📊 ☕\n    - `lightgbm` – Boosting optimizado para grandes volúmenes de datos. 🐍 📊\n    - `catboost` – Boosting para datos categóricos. 🐍\n    - `tensorflow` – Aprendizaje profundo y redes neuronales. 🐍 ☕ 🚀\n    - `pytorch` – Aprendizaje profundo y redes neuronales avanzadas. 🐍 🚀\n    - `keras` – API de alto nivel para TensorFlow. 🐍\n4. Procesamiento de Lenguaje Natural (NLP)\n    - `nltk` – Procesamiento de texto básico. 🐍\n    - `spacy` – Procesamiento de NLP de alto rendimiento. 🐍\n    - `transformers (Hugging Face)` – Modelos preentrenados como BERT, GPT. 🐍\n    - `textblob` – Análisis de sentimiento y tareas básicas de NLP. 🐍\n5. Big Data y Computación Distribuida\n    - `apache-spark (pyspark)` – Procesamiento de big data. 🐍 🔥 ☕\n    - `dask` – Computación distribuida. 🐍\n    - `vaex` – Manejo eficiente de DataFrames grandes. 🐍\n    - `ray` – Computación distribuida optimizada. 🐍\n6. Ingeniería de Datos y ETL\n    - `airflow` – Automatización de flujos de trabajo. 🐍 ☕\n    - `luigi` – Programación de tareas y dependencias. 🐍\n    - `great-expectations` – Validación de datos. 🐍\n7. Análisis de Series Temporales\n    - `statsmodels` – Modelos estadísticos (ARIMA, regresión, etc.). 🐍\n    - `prophet` – Modelado de series temporales de Facebook. 🐍 📊 ☕\n    - `tslearn` – Machine Learning para series temporales. 🐍\n8. Visión por Computador\n    - `opencv` – Procesamiento de imágenes y video. 🐍 🚀\n    - `pillow (PIL)` – Manipulación de imágenes. 🐍\n    - `torchvision` – Utilidades de visión por computadora para PyTorch. 🐍\n    - `detectron2` – Modelos de detección de objetos. 🐍\n9. Cálculo Matemático y Estadístico**\n    - `scipy` – Funciones matemáticas avanzadas. 🐍\n    - `statsmodels` – Pruebas estadísticas y modelos. 🐍\n    - `sympy` – Matemáticas simbólicas. 🐍\n10. AutoML y Optimización de Hiperparámetros\n    - `optuna` – Optimización de hiperparámetros. 🐍\n    - `hyperopt` – Optimización bayesiana. 🐍\n    - `auto-sklearn` – Aprendizaje automático automatizado. 🐍\n    - `tpot` – AutoML basado en algoritmos genéticos. 🐍",
      "metadata": {}
    },
    {
      "cell_type": "markdown",
      "source": "List of Data Science Tools:\n| Data Science Development Environments |\n|-------------------------|\n| Jupyter Notebook       |\n| JupyterLab             |\n| JupyterLite            |\n| RStudio               |\n| Apache Zeppelin        |\n| VS Code (con extensiones) |\n| Google Colab           |\n",
      "metadata": {}
    },
    {
      "cell_type": "markdown",
      "source": "### Below are a few examples of evaluating arithmetic expressions in Python.",
      "metadata": {}
    },
    {
      "cell_type": "code",
      "source": "# This is a simple arithmetic expression to multiply then add integers\n(3 * 4) + 5\n",
      "metadata": {
        "trusted": true
      },
      "outputs": [
        {
          "execution_count": 3,
          "output_type": "execute_result",
          "data": {
            "text/plain": "17"
          },
          "metadata": {}
        }
      ],
      "execution_count": 3
    },
    {
      "cell_type": "code",
      "source": "# This will convert 200 minutes to hours by dividing by 60\nminutes = 200\nhours = minutes / 60\nhours",
      "metadata": {
        "trusted": true
      },
      "outputs": [
        {
          "execution_count": 4,
          "output_type": "execute_result",
          "data": {
            "text/plain": "3.3333333333333335"
          },
          "metadata": {}
        }
      ],
      "execution_count": 4
    },
    {
      "cell_type": "markdown",
      "source": "## Author\nAdrián Rosselló Martínez",
      "metadata": {}
    },
    {
      "cell_type": "markdown",
      "source": "Copyright ©2024 IBM Corporation. All rights reserved.\n",
      "metadata": {}
    }
  ]
}